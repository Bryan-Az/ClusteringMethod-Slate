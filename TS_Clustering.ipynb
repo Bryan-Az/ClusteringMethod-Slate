{
  "cells": [
    {
      "cell_type": "markdown",
      "metadata": {
        "id": "view-in-github",
        "colab_type": "text"
      },
      "source": [
        "<a href=\"https://colab.research.google.com/github/Bryan-Az/ClusteringMethod-Slate/blob/main/TS_Clustering.ipynb\" target=\"_parent\"><img src=\"https://colab.research.google.com/assets/colab-badge.svg\" alt=\"Open In Colab\"/></a>"
      ]
    },
    {
      "cell_type": "code",
      "source": [
        "from google.colab import drive\n",
        "drive.mount('/content/drive')"
      ],
      "metadata": {
        "id": "KSsF9jrFGczt",
        "outputId": "1ccf800a-bc82-41ea-d2b8-5b1eb0f7b3de",
        "colab": {
          "base_uri": "https://localhost:8080/"
        }
      },
      "execution_count": 1,
      "outputs": [
        {
          "output_type": "stream",
          "name": "stdout",
          "text": [
            "Mounted at /content/drive\n"
          ]
        }
      ]
    },
    {
      "cell_type": "code",
      "source": [
        "%cd /content/drive/MyDrive/ColabNotebooks/ClusteringMethod-Slate/Short-term_Forecasting\n"
      ],
      "metadata": {
        "colab": {
          "base_uri": "https://localhost:8080/"
        },
        "id": "7d45hasaKeUX",
        "outputId": "9931c901-0667-4f86-fa56-e474c4d05c9e"
      },
      "execution_count": 15,
      "outputs": [
        {
          "output_type": "stream",
          "name": "stdout",
          "text": [
            "/content/drive/MyDrive/ColabNotebooks/ClusteringMethod-Slate/Short-term_Forecasting\n"
          ]
        }
      ]
    },
    {
      "cell_type": "code",
      "source": [
        "!chmod +x ./scripts/M4.sh\n",
        "!pip install patool einops\n",
        "! ./scripts/M4.sh -D"
      ],
      "metadata": {
        "id": "kSBKFKHjGdV3"
      },
      "execution_count": null,
      "outputs": []
    },
    {
      "cell_type": "code",
      "source": [
        "! ls -D  /content/drive/MyDrive/ColabNotebooks/ClusteringMethod-Slate/Short-term_Forecasting"
      ],
      "metadata": {
        "colab": {
          "base_uri": "https://localhost:8080/"
        },
        "id": "iLWjBoY7JHFv",
        "outputId": "22a74024-8b70-4366-b8c3-b4d7a50a0329"
      },
      "execution_count": 10,
      "outputs": [
        {
          "output_type": "stream",
          "name": "stdout",
          "text": [
            "data_provider  dataset\texp  layers  models  README.md\trequirements.txt  run.py  scripts  utils\n"
          ]
        }
      ]
    },
    {
      "cell_type": "code",
      "source": [
        "!python -u run.py \\\n",
        "  --task_name short_term_forecast \\\n",
        "  --is_training 0 \\\n",
        "  --root_path ./dataset/m4 \\\n",
        "  --seasonal_patterns 'Monthly' \\\n",
        "  --model_id m4_Monthly \\\n",
        "  --model GPT4TS \\\n",
        "  --data m4 \\\n",
        "  --features M \\\n",
        "  --enc_in 1 \\\n",
        "  --dec_in 1 \\\n",
        "  --c_out 1 \\\n",
        "  --gpt_layer 6 \\\n",
        "  --d_ff 128 \\\n",
        "  --d_model 128 \\\n",
        "  --patch_size 1 \\\n",
        "  --stride 1 \\\n",
        "  --batch_size 16 \\\n",
        "  --des 'Exp' \\\n",
        "  --itr 1 \\\n",
        "  --learning_rate 0.002 \\\n",
        "  --loss 'SMAPE'"
      ],
      "metadata": {
        "colab": {
          "base_uri": "https://localhost:8080/"
        },
        "id": "pluarO93TD8T",
        "outputId": "dfb114e4-845f-48bb-e497-80de0800e594"
      },
      "execution_count": 33,
      "outputs": [
        {
          "output_type": "stream",
          "name": "stdout",
          "text": [
            "Args in experiment:\n",
            "Namespace(task_name='short_term_forecast', is_training=0, model_id='m4_Monthly', model='GPT4TS', data='m4', root_path='./dataset/m4', data_path='ETTh1.csv', features='M', target='OT', freq='h', checkpoints='./checkpoints/', seq_len=96, label_len=48, pred_len=96, seasonal_patterns='Monthly', mask_rate=0.25, anomaly_ratio=0.25, top_k=5, num_kernels=6, enc_in=1, dec_in=1, c_out=1, d_model=128, n_heads=8, e_layers=2, d_layers=1, d_ff=128, moving_avg=25, factor=1, distil=True, dropout=0.1, embed='timeF', activation='gelu', output_attention=False, num_workers=10, itr=1, train_epochs=10, batch_size=16, patience=3, learning_rate=0.002, des='Exp', loss='SMAPE', lradj='type1', use_amp=False, use_gpu=True, gpu=0, use_multi_gpu=False, devices='0,1,2,3', p_hidden_dims=[128, 128], p_hidden_layers=2, patch_size=1, stride=1, gpt_layers=6, ln=0, mlp=0, weight=0, percent=5)\n",
            "Use GPU: cuda:0\n",
            ">>>>>>>testing : short_term_forecast_m4_Monthly_GPT4TS_m4_ftM_sl96_ll48_pl96_dm128_nh8_el2_dl1_df128_fc1_ebtimeF_dtTrue_Exp_0<<<<<<<<<<<<<<<<<<<<<<<<<<<<<<<<<\n"
          ]
        }
      ]
    },
    {
      "cell_type": "code",
      "source": [],
      "metadata": {
        "id": "9ydzDHIUUZCs"
      },
      "execution_count": null,
      "outputs": []
    }
  ],
  "metadata": {
    "colab": {
      "provenance": [],
      "gpuType": "V100",
      "include_colab_link": true
    },
    "kernelspec": {
      "display_name": "Python 3",
      "name": "python3"
    },
    "language_info": {
      "name": "python",
      "version": "3.8.18"
    },
    "accelerator": "GPU"
  },
  "nbformat": 4,
  "nbformat_minor": 0
}
{
  "cells": [
    {
      "cell_type": "markdown",
      "metadata": {
        "colab_type": "text",
        "id": "view-in-github"
      },
      "source": [
        "<a href=\"https://colab.research.google.com/github/Bryan-Az/ClusteringMethod-Slate/blob/main/Gaussian_MM_Clustering.ipynb\" target=\"_parent\"><img src=\"https://colab.research.google.com/assets/colab-badge.svg\" alt=\"Open In Colab\"/></a>"
      ]
    },
    {
      "cell_type": "code",
      "execution_count": 15,
      "metadata": {},
      "outputs": [],
      "source": [
        "import pandas as pd\n",
        "import matplotlib.pyplot as plt\n",
        "import numpy as np\n",
        "from sklearn.mixture import GaussianMixture\n",
        "from sklearn.preprocessing import StandardScaler\n",
        "from sklearn.decomposition import PCA"
      ]
    },
    {
      "cell_type": "markdown",
      "metadata": {},
      "source": [
        "# Clustering by Gaussian Mixture Models\n",
        "For this notebook and clustering assignment, I will be re-using the actors_meta_df.csv used in the K-Means notebook as it is containing emotional speech data having many dimensions that when clustered together may benefit more from the Gaussian Mixture Model for clustering rather than K-Means clustering. "
      ]
    },
    {
      "cell_type": "markdown",
      "metadata": {},
      "source": [
        "# Data Loading"
      ]
    },
    {
      "cell_type": "code",
      "execution_count": 16,
      "metadata": {},
      "outputs": [],
      "source": [
        "actors_meta_df = pd.read_csv('./data_samples/actors_meta_df.csv')"
      ]
    },
    {
      "cell_type": "code",
      "execution_count": 17,
      "metadata": {},
      "outputs": [
        {
          "data": {
            "text/plain": [
              "Index(['actor', 'tempo', 'y', 'sr', 'onset_env', 'spectral_centroid',\n",
              "       'spectral_bandwidth', 'spectral_rolloff', 'zero_crossing_rate',\n",
              "       'chroma_stft', 'mfcc', 'rmse', 'modality', 'vocal_channel', 'emotion',\n",
              "       'emotional_intensity', 'statement', 'repetition'],\n",
              "      dtype='object')"
            ]
          },
          "execution_count": 17,
          "metadata": {},
          "output_type": "execute_result"
        }
      ],
      "source": [
        "actors_meta_df.columns"
      ]
    },
    {
      "cell_type": "code",
      "execution_count": 18,
      "metadata": {
        "id": "n8ci4Hxx4D51"
      },
      "outputs": [],
      "source": [
        "numerical_df = actors_meta_df.loc[:, ['modality', 'vocal_channel', 'emotion',\n",
        "       'emotional_intensity', 'statement', 'repetition']]"
      ]
    },
    {
      "cell_type": "code",
      "execution_count": 19,
      "metadata": {},
      "outputs": [
        {
          "data": {
            "text/html": [
              "<div>\n",
              "<style scoped>\n",
              "    .dataframe tbody tr th:only-of-type {\n",
              "        vertical-align: middle;\n",
              "    }\n",
              "\n",
              "    .dataframe tbody tr th {\n",
              "        vertical-align: top;\n",
              "    }\n",
              "\n",
              "    .dataframe thead th {\n",
              "        text-align: right;\n",
              "    }\n",
              "</style>\n",
              "<table border=\"1\" class=\"dataframe\">\n",
              "  <thead>\n",
              "    <tr style=\"text-align: right;\">\n",
              "      <th></th>\n",
              "      <th>modality</th>\n",
              "      <th>vocal_channel</th>\n",
              "      <th>emotion</th>\n",
              "      <th>emotional_intensity</th>\n",
              "      <th>statement</th>\n",
              "      <th>repetition</th>\n",
              "    </tr>\n",
              "  </thead>\n",
              "  <tbody>\n",
              "    <tr>\n",
              "      <th>0</th>\n",
              "      <td>3</td>\n",
              "      <td>1</td>\n",
              "      <td>1</td>\n",
              "      <td>1</td>\n",
              "      <td>2</td>\n",
              "      <td>2</td>\n",
              "    </tr>\n",
              "    <tr>\n",
              "      <th>1</th>\n",
              "      <td>3</td>\n",
              "      <td>1</td>\n",
              "      <td>2</td>\n",
              "      <td>1</td>\n",
              "      <td>2</td>\n",
              "      <td>1</td>\n",
              "    </tr>\n",
              "    <tr>\n",
              "      <th>2</th>\n",
              "      <td>3</td>\n",
              "      <td>1</td>\n",
              "      <td>2</td>\n",
              "      <td>2</td>\n",
              "      <td>1</td>\n",
              "      <td>1</td>\n",
              "    </tr>\n",
              "    <tr>\n",
              "      <th>3</th>\n",
              "      <td>3</td>\n",
              "      <td>1</td>\n",
              "      <td>3</td>\n",
              "      <td>1</td>\n",
              "      <td>1</td>\n",
              "      <td>2</td>\n",
              "    </tr>\n",
              "    <tr>\n",
              "      <th>4</th>\n",
              "      <td>3</td>\n",
              "      <td>1</td>\n",
              "      <td>3</td>\n",
              "      <td>2</td>\n",
              "      <td>2</td>\n",
              "      <td>2</td>\n",
              "    </tr>\n",
              "  </tbody>\n",
              "</table>\n",
              "</div>"
            ],
            "text/plain": [
              "   modality  vocal_channel  emotion  emotional_intensity  statement  \\\n",
              "0         3              1        1                    1          2   \n",
              "1         3              1        2                    1          2   \n",
              "2         3              1        2                    2          1   \n",
              "3         3              1        3                    1          1   \n",
              "4         3              1        3                    2          2   \n",
              "\n",
              "   repetition  \n",
              "0           2  \n",
              "1           1  \n",
              "2           1  \n",
              "3           2  \n",
              "4           2  "
            ]
          },
          "execution_count": 19,
          "metadata": {},
          "output_type": "execute_result"
        }
      ],
      "source": [
        "numerical_df.head()"
      ]
    },
    {
      "cell_type": "markdown",
      "metadata": {},
      "source": [
        "# Data Pre-Processing"
      ]
    },
    {
      "cell_type": "code",
      "execution_count": 20,
      "metadata": {},
      "outputs": [
        {
          "data": {
            "text/html": [
              "<div>\n",
              "<style scoped>\n",
              "    .dataframe tbody tr th:only-of-type {\n",
              "        vertical-align: middle;\n",
              "    }\n",
              "\n",
              "    .dataframe tbody tr th {\n",
              "        vertical-align: top;\n",
              "    }\n",
              "\n",
              "    .dataframe thead th {\n",
              "        text-align: right;\n",
              "    }\n",
              "</style>\n",
              "<table border=\"1\" class=\"dataframe\">\n",
              "  <thead>\n",
              "    <tr style=\"text-align: right;\">\n",
              "      <th></th>\n",
              "      <th>modality</th>\n",
              "      <th>vocal_channel</th>\n",
              "      <th>emotion</th>\n",
              "      <th>emotional_intensity</th>\n",
              "      <th>statement</th>\n",
              "      <th>repetition</th>\n",
              "    </tr>\n",
              "  </thead>\n",
              "  <tbody>\n",
              "    <tr>\n",
              "      <th>0</th>\n",
              "      <td>0.0</td>\n",
              "      <td>0.0</td>\n",
              "      <td>-1.716790</td>\n",
              "      <td>-0.935414</td>\n",
              "      <td>1.0</td>\n",
              "      <td>1.0</td>\n",
              "    </tr>\n",
              "    <tr>\n",
              "      <th>1</th>\n",
              "      <td>0.0</td>\n",
              "      <td>0.0</td>\n",
              "      <td>-1.256936</td>\n",
              "      <td>-0.935414</td>\n",
              "      <td>1.0</td>\n",
              "      <td>-1.0</td>\n",
              "    </tr>\n",
              "    <tr>\n",
              "      <th>2</th>\n",
              "      <td>0.0</td>\n",
              "      <td>0.0</td>\n",
              "      <td>-1.256936</td>\n",
              "      <td>1.069045</td>\n",
              "      <td>-1.0</td>\n",
              "      <td>-1.0</td>\n",
              "    </tr>\n",
              "    <tr>\n",
              "      <th>3</th>\n",
              "      <td>0.0</td>\n",
              "      <td>0.0</td>\n",
              "      <td>-0.797081</td>\n",
              "      <td>-0.935414</td>\n",
              "      <td>-1.0</td>\n",
              "      <td>1.0</td>\n",
              "    </tr>\n",
              "    <tr>\n",
              "      <th>4</th>\n",
              "      <td>0.0</td>\n",
              "      <td>0.0</td>\n",
              "      <td>-0.797081</td>\n",
              "      <td>1.069045</td>\n",
              "      <td>1.0</td>\n",
              "      <td>1.0</td>\n",
              "    </tr>\n",
              "  </tbody>\n",
              "</table>\n",
              "</div>"
            ],
            "text/plain": [
              "   modality  vocal_channel   emotion  emotional_intensity  statement  \\\n",
              "0       0.0            0.0 -1.716790            -0.935414        1.0   \n",
              "1       0.0            0.0 -1.256936            -0.935414        1.0   \n",
              "2       0.0            0.0 -1.256936             1.069045       -1.0   \n",
              "3       0.0            0.0 -0.797081            -0.935414       -1.0   \n",
              "4       0.0            0.0 -0.797081             1.069045        1.0   \n",
              "\n",
              "   repetition  \n",
              "0         1.0  \n",
              "1        -1.0  \n",
              "2        -1.0  \n",
              "3         1.0  \n",
              "4         1.0  "
            ]
          },
          "execution_count": 20,
          "metadata": {},
          "output_type": "execute_result"
        }
      ],
      "source": [
        "# applying the standard scaler to the numerical data\n",
        "scaler = StandardScaler()\n",
        "scaler.fit(numerical_df)\n",
        "scaled_df = scaler.transform(numerical_df)\n",
        "scaled_df = pd.DataFrame(scaled_df, columns=numerical_df.columns)\n",
        "scaled_df.head()"
      ]
    },
    {
      "cell_type": "code",
      "execution_count": 21,
      "metadata": {},
      "outputs": [
        {
          "data": {
            "text/html": [
              "<div>\n",
              "<style scoped>\n",
              "    .dataframe tbody tr th:only-of-type {\n",
              "        vertical-align: middle;\n",
              "    }\n",
              "\n",
              "    .dataframe tbody tr th {\n",
              "        vertical-align: top;\n",
              "    }\n",
              "\n",
              "    .dataframe thead th {\n",
              "        text-align: right;\n",
              "    }\n",
              "</style>\n",
              "<table border=\"1\" class=\"dataframe\">\n",
              "  <thead>\n",
              "    <tr style=\"text-align: right;\">\n",
              "      <th></th>\n",
              "      <th>modality</th>\n",
              "      <th>vocal_channel</th>\n",
              "      <th>emotion</th>\n",
              "      <th>emotional_intensity</th>\n",
              "      <th>statement</th>\n",
              "      <th>repetition</th>\n",
              "    </tr>\n",
              "  </thead>\n",
              "  <tbody>\n",
              "    <tr>\n",
              "      <th>count</th>\n",
              "      <td>1440.0</td>\n",
              "      <td>1440.0</td>\n",
              "      <td>1.440000e+03</td>\n",
              "      <td>1.440000e+03</td>\n",
              "      <td>1440.000000</td>\n",
              "      <td>1440.000000</td>\n",
              "    </tr>\n",
              "    <tr>\n",
              "      <th>mean</th>\n",
              "      <td>0.0</td>\n",
              "      <td>0.0</td>\n",
              "      <td>-9.868649e-18</td>\n",
              "      <td>2.540406e-16</td>\n",
              "      <td>0.000000</td>\n",
              "      <td>0.000000</td>\n",
              "    </tr>\n",
              "    <tr>\n",
              "      <th>std</th>\n",
              "      <td>0.0</td>\n",
              "      <td>0.0</td>\n",
              "      <td>1.000347e+00</td>\n",
              "      <td>1.000347e+00</td>\n",
              "      <td>1.000347</td>\n",
              "      <td>1.000347</td>\n",
              "    </tr>\n",
              "    <tr>\n",
              "      <th>min</th>\n",
              "      <td>0.0</td>\n",
              "      <td>0.0</td>\n",
              "      <td>-1.716790e+00</td>\n",
              "      <td>-9.354143e-01</td>\n",
              "      <td>-1.000000</td>\n",
              "      <td>-1.000000</td>\n",
              "    </tr>\n",
              "    <tr>\n",
              "      <th>25%</th>\n",
              "      <td>0.0</td>\n",
              "      <td>0.0</td>\n",
              "      <td>-7.970811e-01</td>\n",
              "      <td>-9.354143e-01</td>\n",
              "      <td>-1.000000</td>\n",
              "      <td>-1.000000</td>\n",
              "    </tr>\n",
              "    <tr>\n",
              "      <th>50%</th>\n",
              "      <td>0.0</td>\n",
              "      <td>0.0</td>\n",
              "      <td>1.226279e-01</td>\n",
              "      <td>-9.354143e-01</td>\n",
              "      <td>0.000000</td>\n",
              "      <td>0.000000</td>\n",
              "    </tr>\n",
              "    <tr>\n",
              "      <th>75%</th>\n",
              "      <td>0.0</td>\n",
              "      <td>0.0</td>\n",
              "      <td>1.042337e+00</td>\n",
              "      <td>1.069045e+00</td>\n",
              "      <td>1.000000</td>\n",
              "      <td>1.000000</td>\n",
              "    </tr>\n",
              "    <tr>\n",
              "      <th>max</th>\n",
              "      <td>0.0</td>\n",
              "      <td>0.0</td>\n",
              "      <td>1.502191e+00</td>\n",
              "      <td>1.069045e+00</td>\n",
              "      <td>1.000000</td>\n",
              "      <td>1.000000</td>\n",
              "    </tr>\n",
              "  </tbody>\n",
              "</table>\n",
              "</div>"
            ],
            "text/plain": [
              "       modality  vocal_channel       emotion  emotional_intensity  \\\n",
              "count    1440.0         1440.0  1.440000e+03         1.440000e+03   \n",
              "mean        0.0            0.0 -9.868649e-18         2.540406e-16   \n",
              "std         0.0            0.0  1.000347e+00         1.000347e+00   \n",
              "min         0.0            0.0 -1.716790e+00        -9.354143e-01   \n",
              "25%         0.0            0.0 -7.970811e-01        -9.354143e-01   \n",
              "50%         0.0            0.0  1.226279e-01        -9.354143e-01   \n",
              "75%         0.0            0.0  1.042337e+00         1.069045e+00   \n",
              "max         0.0            0.0  1.502191e+00         1.069045e+00   \n",
              "\n",
              "         statement   repetition  \n",
              "count  1440.000000  1440.000000  \n",
              "mean      0.000000     0.000000  \n",
              "std       1.000347     1.000347  \n",
              "min      -1.000000    -1.000000  \n",
              "25%      -1.000000    -1.000000  \n",
              "50%       0.000000     0.000000  \n",
              "75%       1.000000     1.000000  \n",
              "max       1.000000     1.000000  "
            ]
          },
          "execution_count": 21,
          "metadata": {},
          "output_type": "execute_result"
        }
      ],
      "source": [
        "scaled_df.describe()"
      ]
    },
    {
      "cell_type": "markdown",
      "metadata": {},
      "source": [
        "After scaling, it seems that modality and vocal_channel lack sufficient variance to scale properly and therefore the values have all been scaled to 0 across all values. To preserve interpretability we will just drop these columns (scaled data performs better overall) & re-attempt the analysis, adding a new column from the source data."
      ]
    },
    {
      "cell_type": "code",
      "execution_count": 22,
      "metadata": {},
      "outputs": [
        {
          "data": {
            "text/html": [
              "<div>\n",
              "<style scoped>\n",
              "    .dataframe tbody tr th:only-of-type {\n",
              "        vertical-align: middle;\n",
              "    }\n",
              "\n",
              "    .dataframe tbody tr th {\n",
              "        vertical-align: top;\n",
              "    }\n",
              "\n",
              "    .dataframe thead th {\n",
              "        text-align: right;\n",
              "    }\n",
              "</style>\n",
              "<table border=\"1\" class=\"dataframe\">\n",
              "  <thead>\n",
              "    <tr style=\"text-align: right;\">\n",
              "      <th></th>\n",
              "      <th>emotion</th>\n",
              "      <th>emotional_intensity</th>\n",
              "      <th>statement</th>\n",
              "      <th>repetition</th>\n",
              "    </tr>\n",
              "  </thead>\n",
              "  <tbody>\n",
              "    <tr>\n",
              "      <th>0</th>\n",
              "      <td>-1.716790</td>\n",
              "      <td>-0.935414</td>\n",
              "      <td>1.0</td>\n",
              "      <td>1.0</td>\n",
              "    </tr>\n",
              "    <tr>\n",
              "      <th>1</th>\n",
              "      <td>-1.256936</td>\n",
              "      <td>-0.935414</td>\n",
              "      <td>1.0</td>\n",
              "      <td>-1.0</td>\n",
              "    </tr>\n",
              "    <tr>\n",
              "      <th>2</th>\n",
              "      <td>-1.256936</td>\n",
              "      <td>1.069045</td>\n",
              "      <td>-1.0</td>\n",
              "      <td>-1.0</td>\n",
              "    </tr>\n",
              "    <tr>\n",
              "      <th>3</th>\n",
              "      <td>-0.797081</td>\n",
              "      <td>-0.935414</td>\n",
              "      <td>-1.0</td>\n",
              "      <td>1.0</td>\n",
              "    </tr>\n",
              "    <tr>\n",
              "      <th>4</th>\n",
              "      <td>-0.797081</td>\n",
              "      <td>1.069045</td>\n",
              "      <td>1.0</td>\n",
              "      <td>1.0</td>\n",
              "    </tr>\n",
              "  </tbody>\n",
              "</table>\n",
              "</div>"
            ],
            "text/plain": [
              "    emotion  emotional_intensity  statement  repetition\n",
              "0 -1.716790            -0.935414        1.0         1.0\n",
              "1 -1.256936            -0.935414        1.0        -1.0\n",
              "2 -1.256936             1.069045       -1.0        -1.0\n",
              "3 -0.797081            -0.935414       -1.0         1.0\n",
              "4 -0.797081             1.069045        1.0         1.0"
            ]
          },
          "execution_count": 22,
          "metadata": {},
          "output_type": "execute_result"
        }
      ],
      "source": [
        "scaled_df_interpretable = scaled_df.loc[:, ['emotion', 'emotional_intensity', 'statement', 'repetition']]\n",
        "scaled_df_interpretable.head()"
      ]
    },
    {
      "cell_type": "code",
      "execution_count": 23,
      "metadata": {},
      "outputs": [
        {
          "data": {
            "text/plain": [
              "count    1440.000000\n",
              "mean      125.635374\n",
              "std        41.601913\n",
              "min        46.981534\n",
              "25%        92.285156\n",
              "50%       123.046875\n",
              "75%       151.999081\n",
              "max       258.398438\n",
              "Name: tempo, dtype: float64"
            ]
          },
          "execution_count": 23,
          "metadata": {},
          "output_type": "execute_result"
        }
      ],
      "source": [
        "actors_meta_df.tempo.describe()\n"
      ]
    },
    {
      "cell_type": "code",
      "execution_count": 24,
      "metadata": {},
      "outputs": [],
      "source": [
        "# fit the standard scaler\n",
        "scaler = StandardScaler()\n",
        "scaled_tempo = actors_meta_df.tempo.values.reshape(-1, 1)\n",
        "scaler.fit(scaled_tempo)\n",
        "scaled_df_interpretable['tempo'] = scaler.transform(scaled_tempo)"
      ]
    },
    {
      "cell_type": "code",
      "execution_count": 25,
      "metadata": {},
      "outputs": [
        {
          "data": {
            "text/plain": [
              "count    1.440000e+03\n",
              "mean    -1.554312e-16\n",
              "std      1.000347e+00\n",
              "min     -1.891287e+00\n",
              "25%     -8.019296e-01\n",
              "50%     -6.224228e-02\n",
              "75%      6.339340e-01\n",
              "max      3.192382e+00\n",
              "Name: tempo, dtype: float64"
            ]
          },
          "execution_count": 25,
          "metadata": {},
          "output_type": "execute_result"
        }
      ],
      "source": [
        "scaled_df_interpretable.tempo.describe()"
      ]
    },
    {
      "cell_type": "markdown",
      "metadata": {},
      "source": [
        "# Exploratory Data Analysis & Visualization"
      ]
    },
    {
      "cell_type": "code",
      "execution_count": 26,
      "metadata": {},
      "outputs": [
        {
          "data": {
            "text/html": [
              "<div>\n",
              "<style scoped>\n",
              "    .dataframe tbody tr th:only-of-type {\n",
              "        vertical-align: middle;\n",
              "    }\n",
              "\n",
              "    .dataframe tbody tr th {\n",
              "        vertical-align: top;\n",
              "    }\n",
              "\n",
              "    .dataframe thead th {\n",
              "        text-align: right;\n",
              "    }\n",
              "</style>\n",
              "<table border=\"1\" class=\"dataframe\">\n",
              "  <thead>\n",
              "    <tr style=\"text-align: right;\">\n",
              "      <th></th>\n",
              "      <th>PC1</th>\n",
              "      <th>PC2</th>\n",
              "    </tr>\n",
              "  </thead>\n",
              "  <tbody>\n",
              "    <tr>\n",
              "      <th>0</th>\n",
              "      <td>1.929035</td>\n",
              "      <td>-0.409483</td>\n",
              "    </tr>\n",
              "    <tr>\n",
              "      <th>1</th>\n",
              "      <td>1.646587</td>\n",
              "      <td>-1.482976</td>\n",
              "    </tr>\n",
              "    <tr>\n",
              "      <th>2</th>\n",
              "      <td>0.149863</td>\n",
              "      <td>-0.083424</td>\n",
              "    </tr>\n",
              "    <tr>\n",
              "      <th>3</th>\n",
              "      <td>1.149331</td>\n",
              "      <td>1.357508</td>\n",
              "    </tr>\n",
              "    <tr>\n",
              "      <th>4</th>\n",
              "      <td>-0.093402</td>\n",
              "      <td>-0.930054</td>\n",
              "    </tr>\n",
              "  </tbody>\n",
              "</table>\n",
              "</div>"
            ],
            "text/plain": [
              "        PC1       PC2\n",
              "0  1.929035 -0.409483\n",
              "1  1.646587 -1.482976\n",
              "2  0.149863 -0.083424\n",
              "3  1.149331  1.357508\n",
              "4 -0.093402 -0.930054"
            ]
          },
          "execution_count": 26,
          "metadata": {},
          "output_type": "execute_result"
        }
      ],
      "source": [
        "# applying PCA to the scaled data\n",
        "pca = PCA(n_components=2)\n",
        "pca.fit(scaled_df_interpretable)\n",
        "pca_df = pca.transform(scaled_df_interpretable)\n",
        "pca_df = pd.DataFrame(pca_df, columns=['PC1', 'PC2'])\n",
        "pca_df.head()"
      ]
    },
    {
      "cell_type": "code",
      "execution_count": 27,
      "metadata": {},
      "outputs": [
        {
          "data": {
            "text/plain": [
              "(1440, 2)"
            ]
          },
          "execution_count": 27,
          "metadata": {},
          "output_type": "execute_result"
        }
      ],
      "source": [
        "pca_df.shape"
      ]
    },
    {
      "cell_type": "code",
      "execution_count": 28,
      "metadata": {},
      "outputs": [
        {
          "data": {
            "text/plain": [
              "<matplotlib.collections.PathCollection at 0x7f8b43685400>"
            ]
          },
          "execution_count": 28,
          "metadata": {},
          "output_type": "execute_result"
        },
        {
          "data": {
            "image/png": "[encoded data removed]",
            "text/plain": [
              "<Figure size 640x480 with 1 Axes>"
            ]
          },
          "metadata": {},
          "output_type": "display_data"
        }
      ],
      "source": [
        "# plotting the pca\n",
        "plt.scatter(pca_df['PC1'], pca_df['PC2'])"
      ]
    },
    {
      "cell_type": "markdown",
      "metadata": {},
      "source": [
        "# Clustering \n",
        "Using Sklearn's Gaussian Mix Model on the pca_df features we created using the scaled audio features 'emotion', 'emotional_intensity', 'statement', 'repetition' and 'tempo'"
      ]
    },
    {
      "cell_type": "code",
      "execution_count": 15,
      "metadata": {},
      "outputs": [
        {
          "ename": "",
          "evalue": "",
          "output_type": "error",
          "traceback": [
            "\u001b[1;31mThe Kernel crashed while executing code in the the current cell or a previous cell. Please review the code in the cell(s) to identify a possible cause of the failure. Click <a href='https://aka.ms/vscodeJupyterKernelCrash'>here</a> for more info. View Jupyter <a href='command:jupyter.viewOutput'>log</a> for further details."
          ]
        }
      ],
      "source": [
        "# fitting the gaussian mixture model\n",
        "gmm = GaussianMixture(n_components=4)\n",
        "gmm.fit(pca_df)\n",
        "gmm_labels = gmm.predict(pca_df)\n",
        "pca_df['gmm_labels'] = gmm_labels\n"
      ]
    },
    {
      "cell_type": "code",
      "execution_count": null,
      "metadata": {},
      "outputs": [],
      "source": [
        "# plot the pca_df using the labels from the gmm\n",
        "plt.scatter(pca_df['PC1'], pca_df['PC2'], c=gmm_labels)"
      ]
    }
  ],
  "metadata": {
    "colab": {
      "authorship_tag": "ABX9TyO5UJKumk9KB7svk1OIfDft",
      "include_colab_link": true,
      "provenance": []
    },
    "kernelspec": {
      "display_name": "Python 3",
      "name": "python3"
    },
    "language_info": {
      "codemirror_mode": {
        "name": "ipython",
        "version": 3
      },
      "file_extension": ".py",
      "mimetype": "text/x-python",
      "name": "python",
      "nbconvert_exporter": "python",
      "pygments_lexer": "ipython3",
      "version": "3.8.18"
    }
  },
  "nbformat": 4,
  "nbformat_minor": 0
}

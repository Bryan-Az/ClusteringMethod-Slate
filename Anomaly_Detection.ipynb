{
  "cells": [
    {
      "cell_type": "markdown",
      "metadata": {
        "colab_type": "text",
        "id": "view-in-github"
      },
      "source": [
        "<a href=\"https://colab.research.google.com/github/Bryan-Az/ClusteringMethod-Slate/blob/main/Anomaly_Detection.ipynb\" target=\"_parent\"><img src=\"https://colab.research.google.com/assets/colab-badge.svg\" alt=\"Open In Colab\"/></a>"
      ]
    },
    {
      "cell_type": "code",
      "execution_count": 32,
      "metadata": {},
      "outputs": [],
      "source": [
        "# this is the model for anomaly detection, KNN works best for this dataset (univarate)\n",
        "from pyod.models.knn import KNN\n",
        "# scaling the data for model interpretability\n",
        "from sklearn.preprocessing import MinMaxScaler\n",
        "\n",
        "import pandas as pd\n",
        "import numpy as np\n",
        "import matplotlib.pyplot as plt"
      ]
    },
    {
      "cell_type": "markdown",
      "metadata": {},
      "source": [
        "# Anomaly Detection using pyOD\n",
        "An uni-variate analysis of audio data using for emotional speech detection. pyOD will be used to run anomaly detection on the dataset. \n",
        "1. PyOD (Python Outlier Detection) is an open-source Python library that provides a comprehensive and scalable toolkit for detecting outlying objects in multivariate data.\n",
        "2. Given my previous results with the Gaussian Mixed Model on the high-dimensional (5 feature) dataframe, I will be running outlier detection using K-Means on a single feature to take a more detailed view and lower the dimensionality & complexity of the results.\n",
        "## Data Loading"
      ]
    },
    {
      "cell_type": "code",
      "execution_count": 5,
      "metadata": {
        "id": "uH74Ty8t4qQW"
      },
      "outputs": [],
      "source": [
        "actors_meta_df = pd.read_csv('./data_samples/actors_meta_df.csv')"
      ]
    },
    {
      "cell_type": "code",
      "execution_count": 37,
      "metadata": {},
      "outputs": [
        {
          "data": {
            "text/plain": [
              "Index(['actor', 'tempo', 'y', 'sr', 'onset_env', 'spectral_centroid',\n",
              "       'spectral_bandwidth', 'spectral_rolloff', 'zero_crossing_rate',\n",
              "       'chroma_stft', 'mfcc', 'rmse', 'modality', 'vocal_channel', 'emotion',\n",
              "       'emotional_intensity', 'statement', 'repetition'],\n",
              "      dtype='object')"
            ]
          },
          "execution_count": 37,
          "metadata": {},
          "output_type": "execute_result"
        }
      ],
      "source": [
        "actors_meta_df.columns"
      ]
    },
    {
      "cell_type": "code",
      "execution_count": 33,
      "metadata": {},
      "outputs": [
        {
          "data": {
            "text/plain": [
              "count    1440.000000\n",
              "mean      125.635374\n",
              "std        41.601913\n",
              "min        46.981534\n",
              "25%        92.285156\n",
              "50%       123.046875\n",
              "75%       151.999081\n",
              "max       258.398438\n",
              "Name: tempo, dtype: float64"
            ]
          },
          "execution_count": 33,
          "metadata": {},
          "output_type": "execute_result"
        }
      ],
      "source": [
        "# selecting only our feature of interest, tempo \n",
        "tempo = actors_meta_df['tempo']\n",
        "tempo.describe()"
      ]
    },
    {
      "cell_type": "code",
      "execution_count": 34,
      "metadata": {},
      "outputs": [
        {
          "name": "stdout",
          "output_type": "stream",
          "text": [
            "(1440, 1)\n"
          ]
        }
      ],
      "source": [
        "# converting to numpy array, and reshaping to 2D array (each row is a sample array within the array)\n",
        "tempo = tempo.to_numpy()\n",
        "tempo = tempo.reshape(-1,1)\n",
        "print(tempo.shape)"
      ]
    },
    {
      "cell_type": "code",
      "execution_count": 35,
      "metadata": {},
      "outputs": [
        {
          "data": {
            "text/plain": [
              "array([[0.17204301],\n",
              "       [0.11728395],\n",
              "       [0.24786325],\n",
              "       [0.54166667],\n",
              "       [0.02222222]])"
            ]
          },
          "execution_count": 35,
          "metadata": {},
          "output_type": "execute_result"
        }
      ],
      "source": [
        "# normalize the data\n",
        "scaler = MinMaxScaler(feature_range=(0, 1))\n",
        "tempo = scaler.fit_transform(tempo)\n",
        "tempo[:5]"
      ]
    },
    {
      "cell_type": "markdown",
      "metadata": {},
      "source": [
        "## Outlier Detection using pyOD's KNN model"
      ]
    },
    {
      "cell_type": "code",
      "execution_count": 36,
      "metadata": {},
      "outputs": [
        {
          "data": {
            "text/plain": [
              "KNN(algorithm='auto', contamination=0.1, leaf_size=30, method='largest',\n",
              "  metric='minkowski', metric_params=None, n_jobs=1, n_neighbors=5, p=2,\n",
              "  radius=1.0)"
            ]
          },
          "execution_count": 36,
          "metadata": {},
          "output_type": "execute_result"
        }
      ],
      "source": [
        "# initializing the model and fitting the data (training the model, creating the decision boundary / predictions)\n",
        "knn = KNN()\n",
        "knn.fit(tempo)"
      ]
    },
    {
      "cell_type": "markdown",
      "metadata": {},
      "source": [
        "### Predicting whether each point is an outlier"
      ]
    },
    {
      "cell_type": "code",
      "execution_count": 56,
      "metadata": {},
      "outputs": [],
      "source": [
        "# Get the prediction labels\n",
        "labels = knn.labels_"
      ]
    },
    {
      "cell_type": "code",
      "execution_count": 63,
      "metadata": {},
      "outputs": [
        {
          "data": {
            "text/plain": [
              "0    1414\n",
              "1      26\n",
              "Name: count, dtype: int64"
            ]
          },
          "execution_count": 63,
          "metadata": {},
          "output_type": "execute_result"
        }
      ],
      "source": [
        "label_series = pd.Series(labels)\n",
        "label_series.value_counts()"
      ]
    },
    {
      "cell_type": "code",
      "execution_count": 81,
      "metadata": {},
      "outputs": [
        {
          "data": {
            "image/png": "[encoded data removed]",
            "text/plain": [
              "<Figure size 640x480 with 1 Axes>"
            ]
          },
          "metadata": {},
          "output_type": "display_data"
        }
      ],
      "source": [
        "# visualizing the data by plotting the tempo as y and labels as x, with y using a boomstick color map\n",
        "# create a boxplot of the tempo data with the labels as the x axis\n",
        "import matplotlib.pyplot as plt\n",
        "\n",
        "# Using the un-scale tempo data for plotting and interpretation\n",
        "tempo = actors_meta_df['tempo'].to_numpy()\n",
        "\n",
        "# Create a list of tempo values for each label category\n",
        "label_tempo = [tempo[labels == label].flatten() for label in set(labels)]\n",
        "\n",
        "# Create a boxplot of the tempo data for each label\n",
        "plt.boxplot(label_tempo, labels=['Yes' if x == 1 else 'No' for x in set(labels)])\n",
        "\n",
        "# Set the labels and title\n",
        "plt.xlabel('Is Anomaly')\n",
        "plt.ylabel('Tempo')\n",
        "plt.title('Boxplot of Tempo for Each Label Category')\n",
        "\n",
        "# Show the plot\n",
        "plt.show()\n"
      ]
    },
    {
      "cell_type": "markdown",
      "metadata": {},
      "source": [
        "## Assessing the Anomalies\n",
        "From the plot above we can see that the majority of the data is not marked as anomaly. The non-anomalous data has a global (average tempo for the whole audio file) tempo value mean of around 125 bpm across the entire dataset, and the boxplot shows us that the upper bound is a tempo of around ~240 bpm and the lower bound is 50bpm. \n",
        "\n",
        "The anomalous data has a much smaller range, and a much lower mean. This makes sense given we are seeking anomalies and outliers. The outlier global tempo value boxplot has a mean of around 55 bpm, a lower bound of 45 bpm and a higher bound of 60 bpm. The outlier boxplot also has a surprising data point that goes all the way up to 260 bpm! This shows us that the majority of outliers are of ~ 50-60 bpm for global tempo, and that there's a single high tempo outlier of ~260 bpm."
      ]
    },
    {
      "cell_type": "code",
      "execution_count": null,
      "metadata": {},
      "outputs": [],
      "source": []
    }
  ],
  "metadata": {
    "colab": {
      "authorship_tag": "ABX9TyO5UJKumk9KB7svk1OIfDft",
      "include_colab_link": true,
      "provenance": []
    },
    "kernelspec": {
      "display_name": "Python 3",
      "name": "python3"
    },
    "language_info": {
      "codemirror_mode": {
        "name": "ipython",
        "version": 3
      },
      "file_extension": ".py",
      "mimetype": "text/x-python",
      "name": "python",
      "nbconvert_exporter": "python",
      "pygments_lexer": "ipython3",
      "version": "3.8.18"
    }
  },
  "nbformat": 4,
  "nbformat_minor": 0
}

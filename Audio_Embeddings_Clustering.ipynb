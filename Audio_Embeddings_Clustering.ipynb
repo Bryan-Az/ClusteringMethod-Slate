{
  "cells": [
    {
      "cell_type": "markdown",
      "metadata": {
        "colab_type": "text",
        "id": "view-in-github"
      },
      "source": [
        "<a href=\"https://colab.research.google.com/github/Bryan-Az/ClusteringMethod-Slate/blob/main/Audio_Embeddings_Clustering.ipynb\" target=\"_parent\"><img src=\"https://colab.research.google.com/assets/colab-badge.svg\" alt=\"Open In Colab\"/></a>"
      ]
    },
    {
      "cell_type": "code",
      "execution_count": 1,
      "metadata": {
        "id": "36MtL5CJ5k5A"
      },
      "outputs": [],
      "source": [
        "import zipfile\n",
        "import os\n",
        "import librosa\n",
        "import pandas as pd\n",
        "import numpy as np\n",
        "import shutil\n",
        "import matplotlib.pyplot as plt\n",
        "import keras"
      ]
    },
    {
      "cell_type": "markdown",
      "metadata": {},
      "source": [
        "# Audio Clustering of Emotional Actor Speech Dataset"
      ]
    },
    {
      "cell_type": "markdown",
      "metadata": {},
      "source": [
        "## Data Loading"
      ]
    },
    {
      "cell_type": "code",
      "execution_count": 2,
      "metadata": {},
      "outputs": [],
      "source": [
        "def process_audio_from_zip(zip_path):\n",
        "    \"\"\"\n",
        "    This function takes in the path to a zip file containing audio files.\n",
        "    It then processes the audio data using librosa and creates and returns a dataframe.\n",
        "    \"\"\"\n",
        "    # set extract path to name of zip\n",
        "    extract_path = zip_path.split('.')[0]\n",
        "    # create the directory if it doesn't exist\n",
        "    if not os.path.exists(extract_path):\n",
        "        print('Extracting zip file ' + zip_path.split('/')[1] + ' to ' + zip_path.split('.')[0])\n",
        "        os.makedirs(extract_path)\n",
        "\n",
        "        # extract the contents of the zip file to the directory\n",
        "        with zipfile.ZipFile(zip_path, 'r') as zip_ref:\n",
        "            zip_ref.extractall(extract_path)\n",
        "    # first, simple audio features used by librosa, excluding the raw data\n",
        "    # features: tempo, spectral_centroid, spectral_bandwidth, spectral_rolloff, zero_crossing_rate\n",
        "    #           chroma_stft, mfcc, rmse\n",
        "\n",
        "    # second, inherent emotion features\n",
        "    # creating the feature dictionary to return later as a df\n",
        "    feature_dict = {'actor': [], 'tempo': [], 'y':[], 'sr':[], 'onset_env':[], 'spectral_centroid': [], 'spectral_bandwidth':[], 'spectral_rolloff':[], 'zero_crossing_rate':[], 'chroma_stft':[],\n",
        "                    'mfcc':[], 'rmse':[], 'beats':[]\n",
        "    }\n",
        "    # for each file in the directory ill be inserting the data into the feature dictionary\n",
        "    for actor_dir in os.listdir(extract_path):\n",
        "        if not actor_dir.startswith('Actor'):\n",
        "            continue\n",
        "        print('Processing the actor directory: ' + actor_dir)\n",
        "        for wav_file in os.listdir(extract_path + '/' + actor_dir):\n",
        "            if not wav_file.endswith('.wav'):\n",
        "                continue\n",
        "            ### Process Librosa Features ###\n",
        "            # load the audio file\n",
        "            y, sr = librosa.load(extract_path + '/' + actor_dir + '/' + wav_file)\n",
        "            # calculate the tempo\n",
        "            tempo, beats = librosa.beat.beat_track(y=y, sr=sr)\n",
        "            # calculate the spectral centroid\n",
        "            spec_cent = librosa.feature.spectral_centroid(y=y, sr=sr)\n",
        "            # calculate the spectral bandwidth\n",
        "            spec_bw = librosa.feature.spectral_bandwidth(y=y, sr=sr)\n",
        "            # calculate the spectral rolloff\n",
        "            spec_rolloff = librosa.feature.spectral_rolloff(y=y, sr=sr)\n",
        "            # calculate the zero crossing rate\n",
        "            zcr = librosa.feature.zero_crossing_rate(y)\n",
        "            # calculate the chroma stft\n",
        "            chroma_stft = librosa.feature.chroma_stft(y=y, sr=sr)\n",
        "            # calculate the mfcc\n",
        "            mfcc = librosa.feature.mfcc(y=y, sr=sr)\n",
        "            # calculate the rmse\n",
        "            rmse = librosa.feature.rms(y=y)\n",
        "            # calculate onset strength\n",
        "            onset_env = librosa.onset.onset_strength(y=y, sr=sr)\n",
        "            # add all the features to the dictionary\n",
        "            # appending the features to the dictionary list with the following keys [tempo, spec_cent, spec_bw, spec_rolloff, zcr, chroma_stft, mfcc, rmse]\n",
        "            feature_dict['actor'].append(actor_dir)\n",
        "            feature_dict['tempo'].append(tempo)\n",
        "            feature_dict['spectral_centroid'].append(spec_cent)\n",
        "            feature_dict['spectral_bandwidth'].append(spec_bw)\n",
        "            feature_dict['spectral_rolloff'].append(spec_rolloff)\n",
        "            feature_dict['zero_crossing_rate'].append(zcr)\n",
        "            feature_dict['chroma_stft'].append(chroma_stft)\n",
        "            feature_dict['mfcc'].append(mfcc)\n",
        "            feature_dict['rmse'].append(rmse)\n",
        "            feature_dict['onset_env'].append(onset_env)\n",
        "            feature_dict['y'].append(y)\n",
        "            feature_dict['sr'].append(sr)\n",
        "            feature_dict['beats'].append(beats)\n",
        "            # deleting the root directory after processing\n",
        "    print(\"Deleting the root directory \" + extract_path)\n",
        "    shutil.rmtree(extract_path)\n",
        "    \n",
        "    actor_audio_df = pd.DataFrame(feature_dict)\n",
        "    return actor_audio_df"
      ]
    },
    {
      "cell_type": "code",
      "execution_count": 3,
      "metadata": {},
      "outputs": [
        {
          "name": "stdout",
          "output_type": "stream",
          "text": [
            "Extracting zip file ActorsSpeech_1-8.zip to data_samples/ActorsSpeech_1-8\n",
            "Processing the actor directory: Actor_04\n",
            "Processing the actor directory: Actor_03\n",
            "Processing the actor directory: Actor_02\n",
            "Processing the actor directory: Actor_05\n",
            "Processing the actor directory: Actor_07\n",
            "Processing the actor directory: Actor_06\n",
            "Processing the actor directory: Actor_01\n",
            "Processing the actor directory: Actor_08\n",
            "Deleting the root directory data_samples/ActorsSpeech_1-8\n"
          ]
        }
      ],
      "source": [
        "actor_speech_df = process_audio_from_zip('data_samples/ActorsSpeech_1-8.zip')"
      ]
    },
    {
      "cell_type": "markdown",
      "metadata": {},
      "source": [
        "## Data Selection\n",
        "As the Audio clustering assignment requires us to create an image encoding of the selected audio feature to be used for training, we only need those features which are used to create a \"Mel Spectogram\" - a visualization that can be saved as a png/jpg and then used to train a image clustering algorithm"
      ]
    },
    {
      "cell_type": "code",
      "execution_count": 4,
      "metadata": {},
      "outputs": [],
      "source": [
        "# we need to select onset_env, sr, y, beats\n",
        "mel_feature_df = actor_speech_df.loc[:, ['actor', 'onset_env', 'sr', 'y', 'beats']]"
      ]
    },
    {
      "cell_type": "code",
      "execution_count": 5,
      "metadata": {},
      "outputs": [
        {
          "data": {
            "text/html": [
              "<div>\n",
              "<style scoped>\n",
              "    .dataframe tbody tr th:only-of-type {\n",
              "        vertical-align: middle;\n",
              "    }\n",
              "\n",
              "    .dataframe tbody tr th {\n",
              "        vertical-align: top;\n",
              "    }\n",
              "\n",
              "    .dataframe thead th {\n",
              "        text-align: right;\n",
              "    }\n",
              "</style>\n",
              "<table border=\"1\" class=\"dataframe\">\n",
              "  <thead>\n",
              "    <tr style=\"text-align: right;\">\n",
              "      <th></th>\n",
              "      <th>actor</th>\n",
              "      <th>onset_env</th>\n",
              "      <th>sr</th>\n",
              "      <th>y</th>\n",
              "      <th>beats</th>\n",
              "    </tr>\n",
              "  </thead>\n",
              "  <tbody>\n",
              "    <tr>\n",
              "      <th>0</th>\n",
              "      <td>Actor_04</td>\n",
              "      <td>[0.0, 0.0, 0.0, 0.0, 0.0, 0.0, 0.0, 0.0, 0.023...</td>\n",
              "      <td>22050</td>\n",
              "      <td>[9.800437e-06, 7.782373e-06, -2.2437437e-06, 9...</td>\n",
              "      <td>[14, 44, 74]</td>\n",
              "    </tr>\n",
              "    <tr>\n",
              "      <th>1</th>\n",
              "      <td>Actor_04</td>\n",
              "      <td>[0.0, 0.0, 0.0, 0.0, 0.0, 0.0, 0.0, 0.0, 0.0, ...</td>\n",
              "      <td>22050</td>\n",
              "      <td>[-2.3260559e-07, 2.7257937e-07, -2.9780148e-07...</td>\n",
              "      <td>[28, 45, 62, 81]</td>\n",
              "    </tr>\n",
              "    <tr>\n",
              "      <th>2</th>\n",
              "      <td>Actor_04</td>\n",
              "      <td>[0.0, 0.0, 0.0, 0.0, 0.0, 0.0, 0.0, 0.0, 0.0, ...</td>\n",
              "      <td>22050</td>\n",
              "      <td>[0.0, 0.0, 0.0, 0.0, 0.0, 0.0, 0.0, 0.0, 0.0, ...</td>\n",
              "      <td>[20, 45, 66]</td>\n",
              "    </tr>\n",
              "    <tr>\n",
              "      <th>3</th>\n",
              "      <td>Actor_04</td>\n",
              "      <td>[0.0, 0.0, 0.0, 0.0, 0.0, 0.0, 0.0, 0.0, 0.0, ...</td>\n",
              "      <td>22050</td>\n",
              "      <td>[0.0, 0.0, 0.0, 0.0, 0.0, 0.0, 0.0, 0.0, 0.0, ...</td>\n",
              "      <td>[22, 45]</td>\n",
              "    </tr>\n",
              "    <tr>\n",
              "      <th>4</th>\n",
              "      <td>Actor_04</td>\n",
              "      <td>[0.0, 0.0, 0.0, 0.0, 0.0, 0.0, 0.0, 0.0, 0.0, ...</td>\n",
              "      <td>22050</td>\n",
              "      <td>[0.0, 0.0, 0.0, 0.0, 0.0, 0.0, 0.0, 0.0, 0.0, ...</td>\n",
              "      <td>[46]</td>\n",
              "    </tr>\n",
              "  </tbody>\n",
              "</table>\n",
              "</div>"
            ],
            "text/plain": [
              "      actor                                          onset_env     sr  \\\n",
              "0  Actor_04  [0.0, 0.0, 0.0, 0.0, 0.0, 0.0, 0.0, 0.0, 0.023...  22050   \n",
              "1  Actor_04  [0.0, 0.0, 0.0, 0.0, 0.0, 0.0, 0.0, 0.0, 0.0, ...  22050   \n",
              "2  Actor_04  [0.0, 0.0, 0.0, 0.0, 0.0, 0.0, 0.0, 0.0, 0.0, ...  22050   \n",
              "3  Actor_04  [0.0, 0.0, 0.0, 0.0, 0.0, 0.0, 0.0, 0.0, 0.0, ...  22050   \n",
              "4  Actor_04  [0.0, 0.0, 0.0, 0.0, 0.0, 0.0, 0.0, 0.0, 0.0, ...  22050   \n",
              "\n",
              "                                                   y             beats  \n",
              "0  [9.800437e-06, 7.782373e-06, -2.2437437e-06, 9...      [14, 44, 74]  \n",
              "1  [-2.3260559e-07, 2.7257937e-07, -2.9780148e-07...  [28, 45, 62, 81]  \n",
              "2  [0.0, 0.0, 0.0, 0.0, 0.0, 0.0, 0.0, 0.0, 0.0, ...      [20, 45, 66]  \n",
              "3  [0.0, 0.0, 0.0, 0.0, 0.0, 0.0, 0.0, 0.0, 0.0, ...          [22, 45]  \n",
              "4  [0.0, 0.0, 0.0, 0.0, 0.0, 0.0, 0.0, 0.0, 0.0, ...              [46]  "
            ]
          },
          "execution_count": 5,
          "metadata": {},
          "output_type": "execute_result"
        }
      ],
      "source": [
        "mel_feature_df.head()"
      ]
    },
    {
      "cell_type": "code",
      "execution_count": 6,
      "metadata": {},
      "outputs": [
        {
          "data": {
            "text/plain": [
              "(480, 5)"
            ]
          },
          "execution_count": 6,
          "metadata": {},
          "output_type": "execute_result"
        }
      ],
      "source": [
        "mel_feature_df.shape"
      ]
    },
    {
      "cell_type": "markdown",
      "metadata": {},
      "source": [
        "## Saving Spectogram Image features"
      ]
    },
    {
      "cell_type": "code",
      "execution_count": 11,
      "metadata": {},
      "outputs": [],
      "source": [
        "import matplotlib.pyplot as plt\n",
        "\n",
        "def saveplot_melspec(audio_features, source, index):\n",
        "    hop_length = 512\n",
        "    fig, ax = plt.subplots()\n",
        "    # increase size of the plot\n",
        "    fig.set_size_inches(18.5, 10.5)\n",
        "    times = librosa.times_like(audio_features['onset_env'], sr=audio_features['sr'], hop_length=hop_length)\n",
        "    M = librosa.feature.melspectrogram(y=audio_features['y'], sr=audio_features['sr'], hop_length=hop_length)\n",
        "    ax.imshow(librosa.power_to_db(M, ref=np.max),\n",
        "              aspect='auto', origin='lower', extent=[times.min(), times.max(), 0, M.shape[0]],\n",
        "              cmap='magma')\n",
        "    \n",
        "    ax.set(title='Mel spectrogram of Actor Speech from ' + source + ', Index: ' + index)\n",
        "    # save the plot\n",
        "    if not os.path.exists('melplots'):\n",
        "        os.makedirs('melplots')\n",
        "    plt.savefig('melplots/melspectrogram_beats_' + source + '_' + index + '.png')\n",
        "    # close the plot\n",
        "    plt.close()\n"
      ]
    },
    {
      "cell_type": "code",
      "execution_count": 12,
      "metadata": {},
      "outputs": [],
      "source": [
        "# apply the saveplot_specbeat function to each row of the dataframe\n",
        "for index, row in mel_feature_df.iterrows():\n",
        "    # use actor as the source\n",
        "    source = row['actor']\n",
        "    # use index as the index\n",
        "    index = str(index)\n",
        "    # call the function\n",
        "    saveplot_melspec(row, source, index)"
      ]
    },
    {
      "cell_type": "markdown",
      "metadata": {},
      "source": [
        "## Clustering the Mel spectogram Images gathered from the Audio"
      ]
    },
    {
      "cell_type": "code",
      "execution_count": 38,
      "metadata": {},
      "outputs": [
        {
          "name": "stdout",
          "output_type": "stream",
          "text": [
            "Epoch 1/10\n",
            "12/12 [==============================] - 13s 999ms/step - loss: 0.1152 - val_loss: 0.0449\n",
            "Epoch 2/10\n",
            "12/12 [==============================] - 12s 970ms/step - loss: 0.0301 - val_loss: 0.0187\n",
            "Epoch 3/10\n",
            "12/12 [==============================] - 12s 1s/step - loss: 0.0179 - val_loss: 0.0138\n",
            "Epoch 4/10\n",
            "12/12 [==============================] - 12s 986ms/step - loss: 0.0127 - val_loss: 0.0105\n",
            "Epoch 5/10\n",
            "12/12 [==============================] - 12s 1s/step - loss: 0.0095 - val_loss: 0.0082\n",
            "Epoch 6/10\n",
            "12/12 [==============================] - 13s 1s/step - loss: 0.0076 - val_loss: 0.0068\n",
            "Epoch 7/10\n",
            "12/12 [==============================] - 56s 5s/step - loss: 0.0065 - val_loss: 0.0060\n",
            "Epoch 8/10\n",
            "12/12 [==============================] - 20s 2s/step - loss: 0.0060 - val_loss: 0.0057\n",
            "Epoch 9/10\n",
            "12/12 [==============================] - 13s 1s/step - loss: 0.0056 - val_loss: 0.0053\n",
            "Epoch 10/10\n",
            "12/12 [==============================] - 11s 962ms/step - loss: 0.0053 - val_loss: 0.0051\n",
            "3/3 [==============================] - 1s 198ms/step - loss: 0.0051\n",
            "Validation Loss: 0.005090814549475908\n",
            "Epoch 1/10\n",
            "12/12 [==============================] - 12s 991ms/step - loss: 0.0311 - val_loss: 0.0162\n",
            "Epoch 2/10\n",
            "12/12 [==============================] - 13s 1s/step - loss: 0.0117 - val_loss: 0.0086\n",
            "Epoch 3/10\n",
            "12/12 [==============================] - 18s 2s/step - loss: 0.0077 - val_loss: 0.0066\n",
            "Epoch 4/10\n",
            "12/12 [==============================] - 21s 2s/step - loss: 0.0063 - val_loss: 0.0059\n",
            "Epoch 5/10\n",
            "12/12 [==============================] - 18s 1s/step - loss: 0.0058 - val_loss: 0.0055\n",
            "Epoch 6/10\n",
            "12/12 [==============================] - 16s 1s/step - loss: 0.0055 - val_loss: 0.0052\n",
            "Epoch 7/10\n",
            "12/12 [==============================] - 15s 1s/step - loss: 0.0052 - val_loss: 0.0050\n",
            "Epoch 8/10\n",
            "12/12 [==============================] - 15s 1s/step - loss: 0.0050 - val_loss: 0.0048\n",
            "Epoch 9/10\n",
            "12/12 [==============================] - 16s 1s/step - loss: 0.0048 - val_loss: 0.0047\n",
            "Epoch 10/10\n",
            "12/12 [==============================] - 15s 1s/step - loss: 0.0047 - val_loss: 0.0045\n",
            "3/3 [==============================] - 1s 242ms/step - loss: 0.0045\n",
            "Validation Loss: 0.0045338780619204044\n"
          ]
        }
      ],
      "source": [
        "from sklearn.cluster import KMeans\n",
        "from sklearn.preprocessing import StandardScaler\n",
        "from sklearn.cluster import KMeans\n",
        "from sklearn.preprocessing import StandardScaler\n",
        "import numpy as np\n",
        "import os\n",
        "import glob\n",
        "from PIL import Image\n",
        "import tensorflow as tf\n",
        "from tensorflow.keras.models import Model\n",
        "from tensorflow.keras.layers import Input, Conv2D, MaxPooling2D, UpSampling2D\n",
        "from tensorflow.keras.callbacks import EarlyStopping\n",
        "from sklearn.model_selection import train_test_split\n",
        "import matplotlib.pyplot as plt\n",
        "# we want to cluster the mel spectograms by k-means.\n",
        "# First we can use an encoding/decoding M.L model on the the spectograms \n",
        "# goal: outputting a compressed version of the original spectograms. Why? For extracting important features that were learned from the spectograms.\n",
        "# These features can then be clustered seperately from the encoding/decoding model using k-means\n",
        "# This is a form of dimensionality reduction\n",
        "# we will use a convolutional autoencoder for this task\n",
        "# we will use the mel spectograms as the input and output of the autoencoder\n",
        "# we will use the compressed version of the spectograms as the input to the k-means algorithm\n",
        "# Step 1: Load the images from the melplots directory\n",
        "image_dir = 'melplots/'\n",
        "image_files = glob.glob(image_dir + '*.png')\n",
        "normalized_images = []\n",
        "image_size = (128, 128)  # Set the desired image size\n",
        "normalized_images_index = []\n",
        "for file in image_files:\n",
        "    image = Image.open(file).convert('RGB')  # Convert to RGB\n",
        "    resized_image = image.resize(image_size)  # Resize image\n",
        "    normalized_image = np.array(resized_image) / 255.0  # Normalize\n",
        "    normalized_image = normalized_image.reshape((128, 128, 3))  # Ensure correct shape\n",
        "    normalized_images.append(normalized_image)\n",
        "    normalized_images_index.append(file.split('_')[-1].split('.')[0])\n",
        "\n",
        "\n",
        "# Step 3: Split the dataset into training and validation sets, making sure the index (normalized_images_index) is split the same way\n",
        "train_images, val_images, train_index, val_index = train_test_split(normalized_images, normalized_images_index, test_size=0.2, random_state=42)\n",
        "\n",
        "\n",
        "# Step 4: Define the architecture of the autoencoder model\n",
        "input_shape = (128, 128, 3)  # Assuming RGB images\n",
        "\n",
        "latent_dim = 64  # Set the dimension of the latent space\n",
        "\n",
        "input_layer = Input(shape=input_shape)\n",
        "# Encoder\n",
        "x = Conv2D(32, (3, 3), activation='relu', padding='same')(input_layer)\n",
        "x = MaxPooling2D((2, 2), padding='same')(x)\n",
        "x = Conv2D(64, (3, 3), activation='relu', padding='same')(x)\n",
        "x = MaxPooling2D((2, 2), padding='same')(x)\n",
        "x = Conv2D(128, (3, 3), activation='relu', padding='same')(x)\n",
        "encoded = MaxPooling2D((2, 2), padding='same')(x)\n",
        "\n",
        "# Decoder\n",
        "x = Conv2D(128, (3, 3), activation='relu', padding='same')(encoded)\n",
        "x = UpSampling2D((2, 2))(x)\n",
        "x = Conv2D(64, (3, 3), activation='relu', padding='same')(x)\n",
        "x = UpSampling2D((2, 2))(x)\n",
        "x = Conv2D(32, (3, 3), activation='relu', padding='same')(x)\n",
        "x = UpSampling2D((2, 2))(x)\n",
        "decoded = Conv2D(3, (3, 3), activation='sigmoid', padding='same')(x)\n",
        "\n",
        "autoencoder = Model(input_layer, decoded)\n",
        "\n",
        "# Step 5: Compile the model\n",
        "autoencoder.compile(optimizer='adam', loss='mse')\n",
        "\n",
        "# Step 6: Train the model\n",
        "epochs = 10  # Set the number of training epochs\n",
        "batch_size = 32  # Set the batch size\n",
        "\n",
        "history = autoencoder.fit(\n",
        "    np.array(train_images),\n",
        "    np.array(train_images),\n",
        "    epochs=epochs,\n",
        "    batch_size=batch_size,\n",
        "    validation_data=(np.array(val_images), np.array(val_images))\n",
        ")\n",
        "\n",
        "# Step 7: Evaluate the model\n",
        "loss = autoencoder.evaluate(np.array(val_images), np.array(val_images))\n",
        "print('Validation Loss:', loss)\n",
        "\n",
        "# Step 8: Save the trained model\n",
        "autoencoder.save('autoencoder_model.h5')\n",
        "\n",
        "# Rest of the code remains the same\n",
        "\n",
        "autoencoder = Model(input_layer, decoded)\n",
        "\n",
        "# Step 5: Compile the model\n",
        "autoencoder.compile(optimizer='adam', loss='mse')\n",
        "\n",
        "# Step 6: Train the model\n",
        "epochs = 10  # Set the number of training epochs\n",
        "batch_size = 32  # Set the batch size\n",
        "\n",
        "history = autoencoder.fit(\n",
        "    np.array(train_images),\n",
        "    np.array(train_images),\n",
        "    epochs=epochs,\n",
        "    batch_size=batch_size,\n",
        "    validation_data=(np.array(val_images), np.array(val_images))\n",
        ")\n",
        "\n",
        "# Step 7: Evaluate the model\n",
        "loss = autoencoder.evaluate(np.array(val_images), np.array(val_images))\n",
        "print('Validation Loss:', loss)\n",
        "\n",
        "# Step 8: Save the trained model\n",
        "autoencoder.save('autoencoder_model.h5')\n",
        "\n"
      ]
    },
    {
      "cell_type": "code",
      "execution_count": 40,
      "metadata": {},
      "outputs": [],
      "source": [
        "# Creating the validation df for plotting the clusters predicted by k-means\n",
        "val_df = pd.DataFrame(val_index, columns=['index'])"
      ]
    },
    {
      "cell_type": "code",
      "execution_count": 43,
      "metadata": {},
      "outputs": [],
      "source": [
        "# using the val_df index column to extract the metadata from the mel_feature_df\n",
        "val_df['actor'] = mel_feature_df.iloc[val_df['index'].astype(int)]['actor'].values\n",
        "val_df['onset_env'] = mel_feature_df.iloc[val_df['index'].astype(int)]['onset_env'].values\n",
        "val_df['sr'] = mel_feature_df.iloc[val_df['index'].astype(int)]['sr'].values\n",
        "val_df['y'] = mel_feature_df.iloc[val_df['index'].astype(int)]['y'].values"
      ]
    },
    {
      "cell_type": "code",
      "execution_count": 44,
      "metadata": {},
      "outputs": [
        {
          "data": {
            "text/html": [
              "<div>\n",
              "<style scoped>\n",
              "    .dataframe tbody tr th:only-of-type {\n",
              "        vertical-align: middle;\n",
              "    }\n",
              "\n",
              "    .dataframe tbody tr th {\n",
              "        vertical-align: top;\n",
              "    }\n",
              "\n",
              "    .dataframe thead th {\n",
              "        text-align: right;\n",
              "    }\n",
              "</style>\n",
              "<table border=\"1\" class=\"dataframe\">\n",
              "  <thead>\n",
              "    <tr style=\"text-align: right;\">\n",
              "      <th></th>\n",
              "      <th>index</th>\n",
              "      <th>actor</th>\n",
              "      <th>onset_env</th>\n",
              "      <th>sr</th>\n",
              "      <th>y</th>\n",
              "    </tr>\n",
              "  </thead>\n",
              "  <tbody>\n",
              "    <tr>\n",
              "      <th>0</th>\n",
              "      <td>448</td>\n",
              "      <td>Actor_08</td>\n",
              "      <td>[0.0, 0.0, 0.0, 0.015350461, 0.0, 0.026791155,...</td>\n",
              "      <td>22050</td>\n",
              "      <td>[-0.00013115315, -0.00021357989, -0.0001711692...</td>\n",
              "    </tr>\n",
              "    <tr>\n",
              "      <th>1</th>\n",
              "      <td>88</td>\n",
              "      <td>Actor_03</td>\n",
              "      <td>[0.0, 0.0, 0.0, 0.0, 0.0, 0.0, 0.0, 0.0, 0.0, ...</td>\n",
              "      <td>22050</td>\n",
              "      <td>[0.0, 0.0, 0.0, 0.0, 0.0, 0.0, 0.0, 0.0, 0.0, ...</td>\n",
              "    </tr>\n",
              "    <tr>\n",
              "      <th>2</th>\n",
              "      <td>60</td>\n",
              "      <td>Actor_03</td>\n",
              "      <td>[0.0, 0.0, 0.0, 0.0, 0.0, 0.0, 0.0, 0.0, 0.0, ...</td>\n",
              "      <td>22050</td>\n",
              "      <td>[0.0, 0.0, 0.0, 0.0, 0.0, 0.0, 0.0, 0.0, 0.0, ...</td>\n",
              "    </tr>\n",
              "    <tr>\n",
              "      <th>3</th>\n",
              "      <td>395</td>\n",
              "      <td>Actor_01</td>\n",
              "      <td>[0.0, 0.0, 0.0, 0.0, 0.0, 0.01882863, 0.0, 0.0...</td>\n",
              "      <td>22050</td>\n",
              "      <td>[0.0, 0.0, 0.0, 0.0, 0.0, 0.0, 0.0, 0.0, 0.0, ...</td>\n",
              "    </tr>\n",
              "    <tr>\n",
              "      <th>4</th>\n",
              "      <td>451</td>\n",
              "      <td>Actor_08</td>\n",
              "      <td>[0.0, 0.0, 0.0, 0.11556527, 0.048161387, 0.099...</td>\n",
              "      <td>22050</td>\n",
              "      <td>[3.0016721e-05, 5.9004607e-05, 3.7454676e-05, ...</td>\n",
              "    </tr>\n",
              "  </tbody>\n",
              "</table>\n",
              "</div>"
            ],
            "text/plain": [
              "  index     actor                                          onset_env     sr  \\\n",
              "0   448  Actor_08  [0.0, 0.0, 0.0, 0.015350461, 0.0, 0.026791155,...  22050   \n",
              "1    88  Actor_03  [0.0, 0.0, 0.0, 0.0, 0.0, 0.0, 0.0, 0.0, 0.0, ...  22050   \n",
              "2    60  Actor_03  [0.0, 0.0, 0.0, 0.0, 0.0, 0.0, 0.0, 0.0, 0.0, ...  22050   \n",
              "3   395  Actor_01  [0.0, 0.0, 0.0, 0.0, 0.0, 0.01882863, 0.0, 0.0...  22050   \n",
              "4   451  Actor_08  [0.0, 0.0, 0.0, 0.11556527, 0.048161387, 0.099...  22050   \n",
              "\n",
              "                                                   y  \n",
              "0  [-0.00013115315, -0.00021357989, -0.0001711692...  \n",
              "1  [0.0, 0.0, 0.0, 0.0, 0.0, 0.0, 0.0, 0.0, 0.0, ...  \n",
              "2  [0.0, 0.0, 0.0, 0.0, 0.0, 0.0, 0.0, 0.0, 0.0, ...  \n",
              "3  [0.0, 0.0, 0.0, 0.0, 0.0, 0.0, 0.0, 0.0, 0.0, ...  \n",
              "4  [3.0016721e-05, 5.9004607e-05, 3.7454676e-05, ...  "
            ]
          },
          "execution_count": 44,
          "metadata": {},
          "output_type": "execute_result"
        }
      ],
      "source": [
        "val_df.head()"
      ]
    },
    {
      "cell_type": "code",
      "execution_count": 41,
      "metadata": {},
      "outputs": [],
      "source": [
        "# Step 9: Load the trained model and use it to compress the images in the validation set\n",
        "autoencoder = tf.keras.models.load_model('autoencoder_model.h5')\n",
        "encoded_images = autoencoder.predict(np.array(val_images))"
      ]
    },
    {
      "cell_type": "code",
      "execution_count": 47,
      "metadata": {},
      "outputs": [
        {
          "data": {
            "image/png": "[encoded data removed]",
            "text/plain": [
              "<Figure size 640x480 with 1 Axes>"
            ]
          },
          "metadata": {},
          "output_type": "display_data"
        },
        {
          "data": {
            "image/png": "[encoded data removed]",
            "text/plain": [
              "<Figure size 640x480 with 1 Axes>"
            ]
          },
          "metadata": {},
          "output_type": "display_data"
        },
        {
          "data": {
            "image/png": "[encoded data removed]",
            "text/plain": [
              "<Figure size 640x480 with 1 Axes>"
            ]
          },
          "metadata": {},
          "output_type": "display_data"
        }
      ],
      "source": [
        "# use the encoded images as the input to the k-means algorithm\n",
        "encoded_images = encoded_images.reshape(encoded_images.shape[0], -1)\n",
        "# the encoded validation images have shape (96, 49152)\n",
        "# we will use k-means to cluster the encoded images into 3 clusters\n",
        "kmeans = KMeans(n_clusters=3, random_state=42).fit(encoded_images)\n",
        "# get the labels from the k-means algorithm\n",
        "cluster_labels = kmeans.labels_\n",
        "# add the labels to the validation dataframe\n",
        "val_df['cluster_labels'] = cluster_labels\n",
        "# save the dataframe\n",
        "val_df.to_csv('mel_cluster_features.csv')\n",
        "# plot the clusters with matplotlib\n",
        "# first, we need to get the unique labels\n",
        "unique_labels = val_df['cluster_labels'].unique()\n",
        "# plot the clusters\n",
        "for label in unique_labels:\n",
        "    # get the rows with the current label\n",
        "    current_rows = val_df[val_df['cluster_labels'] == label]\n",
        "    # visualize the cluster distribution of the spectograms in each label using a histogram\n",
        "    plt.hist(current_rows['actor'])\n",
        "    plt.title('Cluster ' + str(label))\n",
        "    plt.show()\n",
        "\n",
        "    \n",
        "    "
      ]
    },
    {
      "cell_type": "code",
      "execution_count": null,
      "metadata": {},
      "outputs": [],
      "source": []
    }
  ],
  "metadata": {
    "colab": {
      "authorship_tag": "ABX9TyO5UJKumk9KB7svk1OIfDft",
      "include_colab_link": true,
      "provenance": []
    },
    "kernelspec": {
      "display_name": "Python 3",
      "name": "python3"
    },
    "language_info": {
      "codemirror_mode": {
        "name": "ipython",
        "version": 3
      },
      "file_extension": ".py",
      "mimetype": "text/x-python",
      "name": "python",
      "nbconvert_exporter": "python",
      "pygments_lexer": "ipython3",
      "version": "3.8.15"
    }
  },
  "nbformat": 4,
  "nbformat_minor": 0
}
